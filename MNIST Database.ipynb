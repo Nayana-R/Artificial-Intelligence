{
 "cells": [
  {
   "cell_type": "markdown",
   "metadata": {},
   "source": [
    "# Create a Multi-layer fully connected neural network with the following configuration of the hidden layers to classify the digits of the MNIST data base.\n",
    "Hidden layers configuration:\n",
    "* Hidden Layer 1 : 300\n",
    "* Hidden layer 2 : 200\n",
    "* Hidden layer 3: 100\n",
    "* Hidden layer 4: 50\n",
    "* Softmax layer : 10\n",
    "\n",
    "Train and test the model and print the accuracy. "
   ]
  },
  {
   "cell_type": "code",
   "execution_count": 1,
   "metadata": {},
   "outputs": [],
   "source": [
    "import tensorflow as tf\n",
    "from sklearn.metrics import confusion_matrix\n",
    "from sklearn.metrics import accuracy_score\n",
    "import matplotlib.pyplot as plt\n",
    "%matplotlib inline\n",
    "from tensorflow.examples.tutorials.mnist import input_data"
   ]
  },
  {
   "cell_type": "code",
   "execution_count": 18,
   "metadata": {},
   "outputs": [
    {
     "name": "stdout",
     "output_type": "stream",
     "text": [
      "Extracting MNIST_data/train-images-idx3-ubyte.gz\n",
      "Extracting MNIST_data/train-labels-idx1-ubyte.gz\n",
      "Extracting MNIST_data/t10k-images-idx3-ubyte.gz\n",
      "Extracting MNIST_data/t10k-labels-idx1-ubyte.gz\n"
     ]
    }
   ],
   "source": [
    "mnist = input_data.read_data_sets('MNIST_data/', one_hot = True)"
   ]
  },
  {
   "cell_type": "code",
   "execution_count": 19,
   "metadata": {},
   "outputs": [],
   "source": [
    "x = tf.placeholder(tf.float32,shape=[None,784])\n",
    "y = tf.placeholder(tf.float32,[None,10])"
   ]
  },
  {
   "cell_type": "code",
   "execution_count": 20,
   "metadata": {},
   "outputs": [],
   "source": [
    "# Hidden layer 1\n",
    "\n",
    "w1 = tf.Variable(tf.truncated_normal([784, 300], stddev = 0.1))\n",
    "b1 = tf.Variable(tf.zeros([300]))\n",
    "\n",
    "# Input function\n",
    "\n",
    "input1 = tf.add(tf.matmul(x, w1), b1)\n",
    "\n",
    "# Activation Function\n",
    "\n",
    "output1 = tf.nn.relu(input1)"
   ]
  },
  {
   "cell_type": "code",
   "execution_count": 21,
   "metadata": {},
   "outputs": [],
   "source": [
    "# Hidden layer 2\n",
    "\n",
    "w2 = tf.Variable(tf.truncated_normal([300, 200], stddev  = 0.1))\n",
    "b2 = tf.Variable(tf.zeros([200]))\n",
    "\n",
    "# Input function\n",
    "\n",
    "input2 = tf.add(tf.matmul(output1, w2), b2)\n",
    "\n",
    "# Activation Function\n",
    "\n",
    "output2 = tf.nn.relu(input2)"
   ]
  },
  {
   "cell_type": "code",
   "execution_count": 25,
   "metadata": {},
   "outputs": [],
   "source": [
    "# Hidden layer 3\n",
    "\n",
    "w3 = tf.Variable(tf.truncated_normal([200,100],stddev=0.1))\n",
    "b3 = tf.Variable(tf.zeros([100]))\n",
    "\n",
    "# Input function\n",
    "\n",
    "input3 = tf.add(tf.matmul(output2, w3), b3)\n",
    "\n",
    "# Activation Function\n",
    "\n",
    "output3 = tf.nn.relu(input3)"
   ]
  },
  {
   "cell_type": "code",
   "execution_count": 26,
   "metadata": {},
   "outputs": [],
   "source": [
    "# Hidden layer 4\n",
    "\n",
    "w4 = tf.Variable(tf.truncated_normal([100,50],stddev=0.1))\n",
    "b4 = tf.Variable(tf.zeros([50]))\n",
    "\n",
    "# Input function\n",
    "\n",
    "input4 = tf.add(tf.matmul(output3, w4), b4)\n",
    "\n",
    "# Activation Function\n",
    "\n",
    "output4 = tf.nn.relu(input4)"
   ]
  },
  {
   "cell_type": "code",
   "execution_count": 27,
   "metadata": {},
   "outputs": [],
   "source": [
    "# Hidden layer 5\n",
    "\n",
    "w5 = tf.Variable(tf.truncated_normal([50,10],stddev=0.1))\n",
    "b5 = tf.Variable(tf.zeros([10]))\n",
    "\n",
    "# Input function\n",
    "\n",
    "input5 = tf.add(tf.matmul(output4, w5), b5)\n",
    "\n",
    "# Activation Function\n",
    "\n",
    "output5 = tf.nn.softmax(input5)"
   ]
  },
  {
   "cell_type": "code",
   "execution_count": 28,
   "metadata": {},
   "outputs": [],
   "source": [
    "loss = tf.reduce_mean(tf.nn.softmax_cross_entropy_with_logits_v2(labels = y, logits = output5))\n",
    "\n",
    "gdo = tf.train.GradientDescentOptimizer(learning_rate = 0.5)\n",
    "\n",
    "train = gdo.minimize(loss)"
   ]
  },
  {
   "cell_type": "code",
   "execution_count": 29,
   "metadata": {},
   "outputs": [],
   "source": [
    "init = tf.global_variables_initializer()\n",
    "\n",
    "sess = tf.Session()\n",
    "sess.run(init)"
   ]
  },
  {
   "cell_type": "code",
   "execution_count": 35,
   "metadata": {},
   "outputs": [],
   "source": [
    "for step in range(1000):        \n",
    "        batch_x , batch_y = mnist.train.next_batch(100)        \n",
    "        sess.run(train,feed_dict={x : batch_x, y : batch_y})"
   ]
  },
  {
   "cell_type": "code",
   "execution_count": 36,
   "metadata": {},
   "outputs": [
    {
     "data": {
      "text/plain": [
       "array([[4.82198154e-15, 1.13003241e-14, 1.15442350e-10, ...,\n",
       "        1.00000000e+00, 1.60903935e-19, 1.15026226e-11],\n",
       "       [2.89773153e-12, 2.48067789e-10, 1.00000000e+00, ...,\n",
       "        1.20788345e-11, 3.11056194e-12, 5.93022788e-17],\n",
       "       [1.28299227e-13, 9.99997020e-01, 9.24860046e-07, ...,\n",
       "        1.73528724e-06, 9.69290648e-10, 7.55309149e-10],\n",
       "       ...,\n",
       "       [1.58913884e-22, 7.67091897e-17, 1.22963849e-19, ...,\n",
       "        2.51069913e-18, 3.95697020e-19, 1.78322851e-13],\n",
       "       [2.83810302e-11, 1.47930117e-12, 9.11618437e-12, ...,\n",
       "        2.92329665e-17, 1.80304014e-05, 8.88904367e-11],\n",
       "       [6.90585242e-15, 2.74377667e-21, 8.98830110e-13, ...,\n",
       "        3.39597583e-23, 6.89747474e-24, 1.03531746e-26]], dtype=float32)"
      ]
     },
     "execution_count": 36,
     "metadata": {},
     "output_type": "execute_result"
    }
   ],
   "source": [
    "predict = sess.run(output5, feed_dict = {x : mnist.test.images})\n",
    "predict"
   ]
  },
  {
   "cell_type": "code",
   "execution_count": 37,
   "metadata": {},
   "outputs": [
    {
     "data": {
      "text/plain": [
       "array([7, 2, 1, ..., 4, 5, 6], dtype=int64)"
      ]
     },
     "execution_count": 37,
     "metadata": {},
     "output_type": "execute_result"
    }
   ],
   "source": [
    "result = sess.run(tf.argmax(predict, 1))\n",
    "result"
   ]
  },
  {
   "cell_type": "code",
   "execution_count": 38,
   "metadata": {},
   "outputs": [
    {
     "data": {
      "text/plain": [
       "array([7, 2, 1, ..., 4, 5, 6], dtype=int64)"
      ]
     },
     "execution_count": 38,
     "metadata": {},
     "output_type": "execute_result"
    }
   ],
   "source": [
    "label_number = tf.argmax(mnist.test.labels, 1)\n",
    "labels = sess.run(label_number)\n",
    "labels"
   ]
  },
  {
   "cell_type": "code",
   "execution_count": 39,
   "metadata": {},
   "outputs": [
    {
     "data": {
      "text/plain": [
       "0.9589"
      ]
     },
     "execution_count": 39,
     "metadata": {},
     "output_type": "execute_result"
    }
   ],
   "source": [
    "accuracy_score(result, labels)"
   ]
  },
  {
   "cell_type": "code",
   "execution_count": 40,
   "metadata": {},
   "outputs": [],
   "source": [
    "sess.close()"
   ]
  },
  {
   "cell_type": "markdown",
   "metadata": {},
   "source": [
    "# ------------------------------------------------- END -------------------------------------------------------"
   ]
  }
 ],
 "metadata": {
  "kernelspec": {
   "display_name": "Python 3",
   "language": "python",
   "name": "python3"
  },
  "language_info": {
   "codemirror_mode": {
    "name": "ipython",
    "version": 3
   },
   "file_extension": ".py",
   "mimetype": "text/x-python",
   "name": "python",
   "nbconvert_exporter": "python",
   "pygments_lexer": "ipython3",
   "version": "3.5.6"
  }
 },
 "nbformat": 4,
 "nbformat_minor": 2
}
